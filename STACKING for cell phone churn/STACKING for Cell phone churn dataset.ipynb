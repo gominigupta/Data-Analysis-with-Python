{
 "cells": [
  {
   "cell_type": "code",
   "execution_count": 1,
   "id": "7bedb8ea",
   "metadata": {},
   "outputs": [],
   "source": [
    "from vecstack import stacking\n",
    "import pandas as pd\n",
    "import numpy as np\n",
    "from sklearn.metrics import accuracy_score \n",
    "from sklearn.model_selection import train_test_split\n",
    "\n",
    "from sklearn.ensemble import RandomForestClassifier\n",
    "from sklearn.tree import DecisionTreeClassifier\n",
    "from sklearn.neighbors import KNeighborsClassifier\n",
    "from sklearn.neural_network import MLPClassifier\n",
    "from sklearn.svm import SVC\n",
    "\n",
    "from sklearn.model_selection import RandomizedSearchCV\n",
    "from sklearn.model_selection import cross_val_score\n",
    "from sklearn.metrics import classification_report, confusion_matrix\n",
    "from sklearn.metrics import roc_auc_score\n",
    "\n",
    "from imblearn.over_sampling import SMOTE \n",
    "from collections import Counter \n",
    "\n",
    "import warnings\n",
    "warnings.filterwarnings(\"ignore\")"
   ]
  },
  {
   "cell_type": "code",
   "execution_count": 2,
   "id": "6fd76438",
   "metadata": {},
   "outputs": [
    {
     "data": {
      "text/html": [
       "<div>\n",
       "<style scoped>\n",
       "    .dataframe tbody tr th:only-of-type {\n",
       "        vertical-align: middle;\n",
       "    }\n",
       "\n",
       "    .dataframe tbody tr th {\n",
       "        vertical-align: top;\n",
       "    }\n",
       "\n",
       "    .dataframe thead th {\n",
       "        text-align: right;\n",
       "    }\n",
       "</style>\n",
       "<table border=\"1\" class=\"dataframe\">\n",
       "  <thead>\n",
       "    <tr style=\"text-align: right;\">\n",
       "      <th></th>\n",
       "      <th>MOUMO</th>\n",
       "      <th>MOUPMO</th>\n",
       "      <th>MOU3MO</th>\n",
       "      <th>MOUCH1M</th>\n",
       "      <th>MOUCH3M</th>\n",
       "      <th>CUM3MCH</th>\n",
       "      <th>CUSTMOS</th>\n",
       "      <th>LONGD</th>\n",
       "      <th>CALLW</th>\n",
       "      <th>LINES</th>\n",
       "      <th>...</th>\n",
       "      <th>INCOME</th>\n",
       "      <th>SPORTS</th>\n",
       "      <th>NATURE</th>\n",
       "      <th>ARTS</th>\n",
       "      <th>HRS_TV</th>\n",
       "      <th>TRAVEL</th>\n",
       "      <th>EDUC</th>\n",
       "      <th>TOTMOU</th>\n",
       "      <th>TOTCHNG</th>\n",
       "      <th>TARGET</th>\n",
       "    </tr>\n",
       "  </thead>\n",
       "  <tbody>\n",
       "    <tr>\n",
       "      <th>0</th>\n",
       "      <td>105</td>\n",
       "      <td>15</td>\n",
       "      <td>99</td>\n",
       "      <td>90</td>\n",
       "      <td>-84</td>\n",
       "      <td>6</td>\n",
       "      <td>11</td>\n",
       "      <td>0</td>\n",
       "      <td>0</td>\n",
       "      <td>2</td>\n",
       "      <td>...</td>\n",
       "      <td>51000</td>\n",
       "      <td>B</td>\n",
       "      <td>1</td>\n",
       "      <td>N</td>\n",
       "      <td>10</td>\n",
       "      <td>None</td>\n",
       "      <td>Bachelors</td>\n",
       "      <td>219</td>\n",
       "      <td>6</td>\n",
       "      <td>0</td>\n",
       "    </tr>\n",
       "    <tr>\n",
       "      <th>1</th>\n",
       "      <td>999</td>\n",
       "      <td>1200</td>\n",
       "      <td>1145</td>\n",
       "      <td>-201</td>\n",
       "      <td>55</td>\n",
       "      <td>-146</td>\n",
       "      <td>3</td>\n",
       "      <td>1</td>\n",
       "      <td>1</td>\n",
       "      <td>2</td>\n",
       "      <td>...</td>\n",
       "      <td>80000</td>\n",
       "      <td>A</td>\n",
       "      <td>0</td>\n",
       "      <td>N</td>\n",
       "      <td>40</td>\n",
       "      <td>Domestic</td>\n",
       "      <td>Masters</td>\n",
       "      <td>3344</td>\n",
       "      <td>-146</td>\n",
       "      <td>1</td>\n",
       "    </tr>\n",
       "    <tr>\n",
       "      <th>2</th>\n",
       "      <td>5</td>\n",
       "      <td>2</td>\n",
       "      <td>1</td>\n",
       "      <td>3</td>\n",
       "      <td>1</td>\n",
       "      <td>4</td>\n",
       "      <td>23</td>\n",
       "      <td>0</td>\n",
       "      <td>0</td>\n",
       "      <td>1</td>\n",
       "      <td>...</td>\n",
       "      <td>80000</td>\n",
       "      <td>C</td>\n",
       "      <td>0</td>\n",
       "      <td>Y</td>\n",
       "      <td>50</td>\n",
       "      <td>International</td>\n",
       "      <td>HighSchool</td>\n",
       "      <td>8</td>\n",
       "      <td>4</td>\n",
       "      <td>1</td>\n",
       "    </tr>\n",
       "    <tr>\n",
       "      <th>3</th>\n",
       "      <td>600</td>\n",
       "      <td>456</td>\n",
       "      <td>398</td>\n",
       "      <td>144</td>\n",
       "      <td>58</td>\n",
       "      <td>202</td>\n",
       "      <td>13</td>\n",
       "      <td>0</td>\n",
       "      <td>1</td>\n",
       "      <td>1</td>\n",
       "      <td>...</td>\n",
       "      <td>88000</td>\n",
       "      <td>A</td>\n",
       "      <td>1</td>\n",
       "      <td>N</td>\n",
       "      <td>0</td>\n",
       "      <td>International</td>\n",
       "      <td>Masters</td>\n",
       "      <td>1454</td>\n",
       "      <td>202</td>\n",
       "      <td>1</td>\n",
       "    </tr>\n",
       "    <tr>\n",
       "      <th>4</th>\n",
       "      <td>2</td>\n",
       "      <td>0</td>\n",
       "      <td>0</td>\n",
       "      <td>0</td>\n",
       "      <td>0</td>\n",
       "      <td>0</td>\n",
       "      <td>1</td>\n",
       "      <td>0</td>\n",
       "      <td>0</td>\n",
       "      <td>1</td>\n",
       "      <td>...</td>\n",
       "      <td>29000</td>\n",
       "      <td>B</td>\n",
       "      <td>0</td>\n",
       "      <td>N</td>\n",
       "      <td>75</td>\n",
       "      <td>Domestic</td>\n",
       "      <td>HighSchool</td>\n",
       "      <td>0</td>\n",
       "      <td>0</td>\n",
       "      <td>0</td>\n",
       "    </tr>\n",
       "  </tbody>\n",
       "</table>\n",
       "<p>5 rows × 24 columns</p>\n",
       "</div>"
      ],
      "text/plain": [
       "   MOUMO  MOUPMO  MOU3MO  MOUCH1M  MOUCH3M  CUM3MCH  CUSTMOS  LONGD  CALLW  \\\n",
       "0    105      15      99       90      -84        6       11      0      0   \n",
       "1    999    1200    1145     -201       55     -146        3      1      1   \n",
       "2      5       2       1        3        1        4       23      0      0   \n",
       "3    600     456     398      144       58      202       13      0      1   \n",
       "4      2       0       0        0        0        0        1      0      0   \n",
       "\n",
       "   LINES  ...  INCOME  SPORTS NATURE ARTS  HRS_TV         TRAVEL        EDUC  \\\n",
       "0      2  ...   51000       B      1    N      10           None   Bachelors   \n",
       "1      2  ...   80000       A      0    N      40       Domestic     Masters   \n",
       "2      1  ...   80000       C      0    Y      50  International  HighSchool   \n",
       "3      1  ...   88000       A      1    N       0  International     Masters   \n",
       "4      1  ...   29000       B      0    N      75       Domestic  HighSchool   \n",
       "\n",
       "  TOTMOU  TOTCHNG TARGET  \n",
       "0    219        6      0  \n",
       "1   3344     -146      1  \n",
       "2      8        4      1  \n",
       "3   1454      202      1  \n",
       "4      0        0      0  \n",
       "\n",
       "[5 rows x 24 columns]"
      ]
     },
     "execution_count": 2,
     "metadata": {},
     "output_type": "execute_result"
    }
   ],
   "source": [
    "train = pd.read_csv('Cell Phone Churn-TRAIN.csv')\n",
    "train.head()"
   ]
  },
  {
   "cell_type": "code",
   "execution_count": 3,
   "id": "82614687",
   "metadata": {},
   "outputs": [
    {
     "data": {
      "text/plain": [
       "(1695, 24)"
      ]
     },
     "metadata": {},
     "output_type": "display_data"
    },
    {
     "data": {
      "text/plain": [
       "(375, 24)"
      ]
     },
     "metadata": {},
     "output_type": "display_data"
    }
   ],
   "source": [
    "test = pd.read_csv('Cell Phone Churn-TEST.csv')\n",
    "display(train.shape, test.shape)"
   ]
  },
  {
   "cell_type": "code",
   "execution_count": 6,
   "id": "49e795ed",
   "metadata": {},
   "outputs": [
    {
     "data": {
      "text/plain": [
       "Index(['MOUMO', 'MOUPMO', 'MOU3MO', 'MOUCH1M', 'MOUCH3M', 'CUM3MCH', 'CUSTMOS',\n",
       "       'LONGD', 'CALLW', 'LINES', 'VOICEM', 'CELL', 'CONVB', 'SEX', 'INCOME',\n",
       "       'SPORTS', 'NATURE', 'ARTS', 'HRS_TV', 'TRAVEL', 'EDUC', 'TOTMOU',\n",
       "       'TOTCHNG', 'TARGET'],\n",
       "      dtype='object')"
      ]
     },
     "execution_count": 6,
     "metadata": {},
     "output_type": "execute_result"
    }
   ],
   "source": [
    "train.columns"
   ]
  },
  {
   "cell_type": "code",
   "execution_count": 7,
   "id": "fd53ff42",
   "metadata": {},
   "outputs": [
    {
     "data": {
      "text/plain": [
       "Index(['MOUMO', 'MOUPMO', 'MOU3MO', 'MOUCH1M', 'MOUCH3M', 'CUM3MCH', 'CUSTMOS',\n",
       "       'LONGD', 'CALLW', 'LINES', 'VOICEM', 'CELL', 'CONVB', 'SEX', 'INCOME',\n",
       "       'SPORTS', 'NATURE', 'ARTS', 'HRS_TV', 'TRAVEL', 'EDUC', 'TOTMOU',\n",
       "       'TOTCHNG', 'TARGET'],\n",
       "      dtype='object')"
      ]
     },
     "execution_count": 7,
     "metadata": {},
     "output_type": "execute_result"
    }
   ],
   "source": [
    "test.columns"
   ]
  },
  {
   "cell_type": "code",
   "execution_count": 8,
   "id": "2cf5b863",
   "metadata": {},
   "outputs": [
    {
     "data": {
      "text/html": [
       "<div>\n",
       "<style scoped>\n",
       "    .dataframe tbody tr th:only-of-type {\n",
       "        vertical-align: middle;\n",
       "    }\n",
       "\n",
       "    .dataframe tbody tr th {\n",
       "        vertical-align: top;\n",
       "    }\n",
       "\n",
       "    .dataframe thead th {\n",
       "        text-align: right;\n",
       "    }\n",
       "</style>\n",
       "<table border=\"1\" class=\"dataframe\">\n",
       "  <thead>\n",
       "    <tr style=\"text-align: right;\">\n",
       "      <th></th>\n",
       "      <th>MOUMO</th>\n",
       "      <th>MOUPMO</th>\n",
       "      <th>MOU3MO</th>\n",
       "      <th>MOUCH1M</th>\n",
       "      <th>MOUCH3M</th>\n",
       "      <th>CUM3MCH</th>\n",
       "      <th>CUSTMOS</th>\n",
       "      <th>LONGD</th>\n",
       "      <th>CALLW</th>\n",
       "      <th>LINES</th>\n",
       "      <th>...</th>\n",
       "      <th>INCOME</th>\n",
       "      <th>SPORTS</th>\n",
       "      <th>NATURE</th>\n",
       "      <th>ARTS</th>\n",
       "      <th>HRS_TV</th>\n",
       "      <th>TRAVEL</th>\n",
       "      <th>EDUC</th>\n",
       "      <th>TOTMOU</th>\n",
       "      <th>TOTCHNG</th>\n",
       "      <th>TARGET</th>\n",
       "    </tr>\n",
       "  </thead>\n",
       "  <tbody>\n",
       "    <tr>\n",
       "      <th>0</th>\n",
       "      <td>344</td>\n",
       "      <td>232</td>\n",
       "      <td>455</td>\n",
       "      <td>112</td>\n",
       "      <td>-223</td>\n",
       "      <td>-111</td>\n",
       "      <td>11</td>\n",
       "      <td>1</td>\n",
       "      <td>1</td>\n",
       "      <td>2</td>\n",
       "      <td>...</td>\n",
       "      <td>75000</td>\n",
       "      <td>B</td>\n",
       "      <td>1</td>\n",
       "      <td>Y</td>\n",
       "      <td>25</td>\n",
       "      <td>InterGalactic</td>\n",
       "      <td>GED</td>\n",
       "      <td>1031</td>\n",
       "      <td>-111</td>\n",
       "      <td>0</td>\n",
       "    </tr>\n",
       "    <tr>\n",
       "      <th>1</th>\n",
       "      <td>555</td>\n",
       "      <td>444</td>\n",
       "      <td>678</td>\n",
       "      <td>111</td>\n",
       "      <td>-234</td>\n",
       "      <td>-123</td>\n",
       "      <td>27</td>\n",
       "      <td>1</td>\n",
       "      <td>1</td>\n",
       "      <td>2</td>\n",
       "      <td>...</td>\n",
       "      <td>134000</td>\n",
       "      <td>na</td>\n",
       "      <td>1</td>\n",
       "      <td>Y</td>\n",
       "      <td>5</td>\n",
       "      <td>Domestic</td>\n",
       "      <td>PhD</td>\n",
       "      <td>1677</td>\n",
       "      <td>-123</td>\n",
       "      <td>0</td>\n",
       "    </tr>\n",
       "    <tr>\n",
       "      <th>2</th>\n",
       "      <td>2</td>\n",
       "      <td>0</td>\n",
       "      <td>4</td>\n",
       "      <td>1</td>\n",
       "      <td>-3</td>\n",
       "      <td>-2</td>\n",
       "      <td>4</td>\n",
       "      <td>0</td>\n",
       "      <td>0</td>\n",
       "      <td>1</td>\n",
       "      <td>...</td>\n",
       "      <td>53000</td>\n",
       "      <td>na</td>\n",
       "      <td>1</td>\n",
       "      <td>Y</td>\n",
       "      <td>125</td>\n",
       "      <td>None</td>\n",
       "      <td>Bachelors</td>\n",
       "      <td>6</td>\n",
       "      <td>-2</td>\n",
       "      <td>0</td>\n",
       "    </tr>\n",
       "    <tr>\n",
       "      <th>3</th>\n",
       "      <td>5678</td>\n",
       "      <td>3457</td>\n",
       "      <td>2156</td>\n",
       "      <td>2221</td>\n",
       "      <td>1301</td>\n",
       "      <td>3522</td>\n",
       "      <td>14</td>\n",
       "      <td>1</td>\n",
       "      <td>1</td>\n",
       "      <td>1</td>\n",
       "      <td>...</td>\n",
       "      <td>33000</td>\n",
       "      <td>A</td>\n",
       "      <td>1</td>\n",
       "      <td>Y</td>\n",
       "      <td>25</td>\n",
       "      <td>Domestic</td>\n",
       "      <td>Masters</td>\n",
       "      <td>11291</td>\n",
       "      <td>3522</td>\n",
       "      <td>0</td>\n",
       "    </tr>\n",
       "    <tr>\n",
       "      <th>4</th>\n",
       "      <td>333</td>\n",
       "      <td>122</td>\n",
       "      <td>144</td>\n",
       "      <td>211</td>\n",
       "      <td>-22</td>\n",
       "      <td>189</td>\n",
       "      <td>9</td>\n",
       "      <td>0</td>\n",
       "      <td>1</td>\n",
       "      <td>1</td>\n",
       "      <td>...</td>\n",
       "      <td>44000</td>\n",
       "      <td>F</td>\n",
       "      <td>1</td>\n",
       "      <td>N</td>\n",
       "      <td>35</td>\n",
       "      <td>International</td>\n",
       "      <td>Masters</td>\n",
       "      <td>599</td>\n",
       "      <td>189</td>\n",
       "      <td>1</td>\n",
       "    </tr>\n",
       "  </tbody>\n",
       "</table>\n",
       "<p>5 rows × 24 columns</p>\n",
       "</div>"
      ],
      "text/plain": [
       "   MOUMO  MOUPMO  MOU3MO  MOUCH1M  MOUCH3M  CUM3MCH  CUSTMOS  LONGD  CALLW  \\\n",
       "0    344     232     455      112     -223     -111       11      1      1   \n",
       "1    555     444     678      111     -234     -123       27      1      1   \n",
       "2      2       0       4        1       -3       -2        4      0      0   \n",
       "3   5678    3457    2156     2221     1301     3522       14      1      1   \n",
       "4    333     122     144      211      -22      189        9      0      1   \n",
       "\n",
       "   LINES  ...  INCOME  SPORTS NATURE ARTS  HRS_TV         TRAVEL       EDUC  \\\n",
       "0      2  ...   75000       B      1    Y      25  InterGalactic        GED   \n",
       "1      2  ...  134000      na      1    Y       5       Domestic        PhD   \n",
       "2      1  ...   53000      na      1    Y     125           None  Bachelors   \n",
       "3      1  ...   33000       A      1    Y      25       Domestic    Masters   \n",
       "4      1  ...   44000       F      1    N      35  International    Masters   \n",
       "\n",
       "  TOTMOU  TOTCHNG TARGET  \n",
       "0   1031     -111      0  \n",
       "1   1677     -123      0  \n",
       "2      6       -2      0  \n",
       "3  11291     3522      0  \n",
       "4    599      189      1  \n",
       "\n",
       "[5 rows x 24 columns]"
      ]
     },
     "execution_count": 8,
     "metadata": {},
     "output_type": "execute_result"
    }
   ],
   "source": [
    "test.head()"
   ]
  },
  {
   "cell_type": "code",
   "execution_count": 16,
   "id": "e617f4de",
   "metadata": {},
   "outputs": [
    {
     "name": "stdout",
     "output_type": "stream",
     "text": [
      "<class 'pandas.core.frame.DataFrame'>\n",
      "RangeIndex: 1695 entries, 0 to 1694\n",
      "Data columns (total 24 columns):\n",
      " #   Column   Non-Null Count  Dtype \n",
      "---  ------   --------------  ----- \n",
      " 0   MOUMO    1695 non-null   int64 \n",
      " 1   MOUPMO   1695 non-null   int64 \n",
      " 2   MOU3MO   1695 non-null   int64 \n",
      " 3   MOUCH1M  1695 non-null   int64 \n",
      " 4   MOUCH3M  1695 non-null   int64 \n",
      " 5   CUM3MCH  1695 non-null   int64 \n",
      " 6   CUSTMOS  1695 non-null   int64 \n",
      " 7   LONGD    1695 non-null   int64 \n",
      " 8   CALLW    1695 non-null   int64 \n",
      " 9   LINES    1695 non-null   int64 \n",
      " 10  VOICEM   1695 non-null   int64 \n",
      " 11  CELL     1695 non-null   int64 \n",
      " 12  CONVB    1695 non-null   object\n",
      " 13  SEX      1695 non-null   object\n",
      " 14  INCOME   1695 non-null   int64 \n",
      " 15  SPORTS   1695 non-null   object\n",
      " 16  NATURE   1695 non-null   int64 \n",
      " 17  ARTS     1695 non-null   object\n",
      " 18  HRS_TV   1695 non-null   int64 \n",
      " 19  TRAVEL   1695 non-null   object\n",
      " 20  EDUC     1695 non-null   object\n",
      " 21  TOTMOU   1695 non-null   int64 \n",
      " 22  TOTCHNG  1695 non-null   int64 \n",
      " 23  TARGET   1695 non-null   int64 \n",
      "dtypes: int64(18), object(6)\n",
      "memory usage: 317.9+ KB\n"
     ]
    }
   ],
   "source": [
    "train.info()"
   ]
  },
  {
   "cell_type": "code",
   "execution_count": 22,
   "id": "ffdfe0c4",
   "metadata": {},
   "outputs": [],
   "source": [
    "train = pd.get_dummies(train)\n",
    "test = pd.get_dummies(test)"
   ]
  },
  {
   "cell_type": "code",
   "execution_count": 23,
   "id": "c7a8ce14",
   "metadata": {},
   "outputs": [],
   "source": [
    "# seperate features from target for train data set\n",
    "X_train = train.drop(\"TARGET\",axis=1)\n",
    "Y_train = train[\"TARGET\"]"
   ]
  },
  {
   "cell_type": "code",
   "execution_count": 24,
   "id": "085ce279",
   "metadata": {},
   "outputs": [],
   "source": [
    "# seperate features from target for test data set\n",
    "X_test = test.drop(\"TARGET\",axis=1)\n",
    "Y_test = test[\"TARGET\"]"
   ]
  },
  {
   "cell_type": "code",
   "execution_count": 29,
   "id": "fc961cd3",
   "metadata": {},
   "outputs": [
    {
     "name": "stdout",
     "output_type": "stream",
     "text": [
      "accuracy Score (training) for Decision Tree:0.994667\n",
      "Confusion Matrix for Decision Tree\n",
      "[[235   0]\n",
      " [  2 138]]\n",
      "              precision    recall  f1-score   support\n",
      "\n",
      "           0       0.99      1.00      1.00       235\n",
      "           1       1.00      0.99      0.99       140\n",
      "\n",
      "    accuracy                           0.99       375\n",
      "   macro avg       1.00      0.99      0.99       375\n",
      "weighted avg       0.99      0.99      0.99       375\n",
      "\n"
     ]
    }
   ],
   "source": [
    "# Default Decision Tree model\n",
    "clf = DecisionTreeClassifier()\n",
    "clf.fit(X_train,Y_train)\n",
    "clf_predict=clf.predict(X_test)\n",
    "print(\"accuracy Score (training) for Decision Tree:{0:6f}\".format(clf.score(X_test,Y_test)))\n",
    "print(\"Confusion Matrix for Decision Tree\")\n",
    "print(confusion_matrix(Y_test,clf_predict))\n",
    "roc_auc_score(Y_test,clf_predict)\n",
    "print(classification_report(Y_test, clf_predict))"
   ]
  },
  {
   "cell_type": "code",
   "execution_count": 31,
   "id": "2d026eba",
   "metadata": {},
   "outputs": [
    {
     "name": "stdout",
     "output_type": "stream",
     "text": [
      "accuracy Score (training) for Random Forest:0.994667\n",
      "Confusion Matrix for Random Forest\n",
      "[[235   0]\n",
      " [  2 138]]\n",
      "              precision    recall  f1-score   support\n",
      "\n",
      "           0       0.99      1.00      1.00       235\n",
      "           1       1.00      0.99      0.99       140\n",
      "\n",
      "    accuracy                           0.99       375\n",
      "   macro avg       1.00      0.99      0.99       375\n",
      "weighted avg       0.99      0.99      0.99       375\n",
      "\n"
     ]
    }
   ],
   "source": [
    "# Default Random Forest model\n",
    "rfc = RandomForestClassifier()\n",
    "rfc.fit(X_train,Y_train)\n",
    "rfc_predict=rfc.predict(X_test)\n",
    "print(\"accuracy Score (training) for Random Forest:{0:6f}\".format(rfc.score(X_test,Y_test)))\n",
    "print(\"Confusion Matrix for Random Forest\")\n",
    "print(confusion_matrix(Y_test,rfc_predict))\n",
    "roc_auc_score(Y_test,rfc_predict)\n",
    "print(classification_report(Y_test, rfc_predict))"
   ]
  },
  {
   "cell_type": "code",
   "execution_count": 32,
   "id": "c0ec0e41",
   "metadata": {},
   "outputs": [
    {
     "name": "stdout",
     "output_type": "stream",
     "text": [
      "accuracy Score (training) for KNN:0.994667\n",
      "Confusion Matrix for KNN\n",
      "[[235   0]\n",
      " [  2 138]]\n",
      "              precision    recall  f1-score   support\n",
      "\n",
      "           0       0.99      1.00      1.00       235\n",
      "           1       1.00      0.99      0.99       140\n",
      "\n",
      "    accuracy                           0.99       375\n",
      "   macro avg       1.00      0.99      0.99       375\n",
      "weighted avg       0.99      0.99      0.99       375\n",
      "\n"
     ]
    }
   ],
   "source": [
    "# K-nearest neighbours\n",
    "neigh = KNeighborsClassifier()\n",
    "neigh.fit(X_train,Y_train)\n",
    "neigh_predict=neigh.predict(X_test)\n",
    "print(\"accuracy Score (training) for KNN:{0:6f}\".format(neigh.score(X_test,Y_test)))\n",
    "print(\"Confusion Matrix for KNN\")\n",
    "print(confusion_matrix(Y_test,neigh_predict))\n",
    "roc_auc_score(Y_test,neigh_predict)\n",
    "print(classification_report(Y_test, neigh_predict))"
   ]
  },
  {
   "cell_type": "code",
   "execution_count": 33,
   "id": "d220f183",
   "metadata": {},
   "outputs": [
    {
     "name": "stdout",
     "output_type": "stream",
     "text": [
      "accuracy Score (training) for MultiLayer Perceptron:0.728000\n",
      "Confusion Matrix for MultiLayer Perceptron:\n",
      "[[235   0]\n",
      " [102  38]]\n",
      "              precision    recall  f1-score   support\n",
      "\n",
      "           0       0.70      1.00      0.82       235\n",
      "           1       1.00      0.27      0.43       140\n",
      "\n",
      "    accuracy                           0.73       375\n",
      "   macro avg       0.85      0.64      0.62       375\n",
      "weighted avg       0.81      0.73      0.67       375\n",
      "\n"
     ]
    }
   ],
   "source": [
    "# Multilayer Perceptron\n",
    "mlp = MLPClassifier()\n",
    "mlp.fit(X_train, Y_train)\n",
    "mlp_predict=mlp.predict(X_test)\n",
    "print(\"accuracy Score (training) for MultiLayer Perceptron:{0:6f}\".format(mlp.score(X_test,Y_test)))\n",
    "print(\"Confusion Matrix for MultiLayer Perceptron:\")\n",
    "print(confusion_matrix(Y_test,mlp_predict))\n",
    "roc_auc_score(Y_test,mlp_predict)\n",
    "print(classification_report(Y_test, mlp_predict))"
   ]
  },
  {
   "cell_type": "code",
   "execution_count": 34,
   "id": "60d6692a",
   "metadata": {},
   "outputs": [
    {
     "name": "stdout",
     "output_type": "stream",
     "text": [
      "accuracy Score (training) for SVM Classifier:0.650667\n",
      "Confusion Matrix for SVM Classifier:\n",
      "[[226   9]\n",
      " [122  18]]\n",
      "              precision    recall  f1-score   support\n",
      "\n",
      "           0       0.65      0.96      0.78       235\n",
      "           1       0.67      0.13      0.22       140\n",
      "\n",
      "    accuracy                           0.65       375\n",
      "   macro avg       0.66      0.55      0.50       375\n",
      "weighted avg       0.66      0.65      0.57       375\n",
      "\n"
     ]
    }
   ],
   "source": [
    "# SVM\n",
    "svm = SVC() \n",
    "svm.fit(X_train, Y_train) \n",
    "svm_predict=svm.predict(X_test) \n",
    "print(\"accuracy Score (training) for SVM Classifier:{0:6f}\".format(svm.score(X_test,Y_test))) \n",
    "print(\"Confusion Matrix for SVM Classifier:\") \n",
    "print(confusion_matrix(Y_test,svm_predict))\n",
    "roc_auc_score(Y_test,svm_predict)\n",
    "print(classification_report(Y_test, svm_predict))"
   ]
  },
  {
   "cell_type": "code",
   "execution_count": 38,
   "id": "ede692ed",
   "metadata": {},
   "outputs": [
    {
     "data": {
      "text/plain": [
       "KNeighborsClassifier(leaf_size=25)"
      ]
     },
     "execution_count": 38,
     "metadata": {},
     "output_type": "execute_result"
    }
   ],
   "source": [
    "## KNN with hyper-parameter tuning using RANDOM search\n",
    "\n",
    "from sklearn.neighbors import KNeighborsClassifier\n",
    "from sklearn.model_selection import RandomizedSearchCV\n",
    "params = {  'n_neighbors': [5,7,9],\n",
    "                'leaf_size': [20,25,30],\n",
    "                'metric' : ['str','callable', 'minkowski']}\n",
    "randomized_search_knn = RandomizedSearchCV(KNeighborsClassifier(), params, cv=5)\n",
    "randomized_search_knn.fit(X_train, Y_train)\n",
    "randomized_search_knn.best_estimator_"
   ]
  },
  {
   "cell_type": "code",
   "execution_count": 51,
   "id": "30387ca2",
   "metadata": {},
   "outputs": [
    {
     "name": "stdout",
     "output_type": "stream",
     "text": [
      "accuracy Score (training) for tuned KNN:0.994667\n",
      "Confusion Matrix for KNN\n",
      "[[235   0]\n",
      " [  2 138]]\n",
      "              precision    recall  f1-score   support\n",
      "\n",
      "           0       0.99      1.00      1.00       235\n",
      "           1       1.00      0.99      0.99       140\n",
      "\n",
      "    accuracy                           0.99       375\n",
      "   macro avg       1.00      0.99      0.99       375\n",
      "weighted avg       0.99      0.99      0.99       375\n",
      "\n"
     ]
    }
   ],
   "source": [
    "neigh1 = KNeighborsClassifier(leaf_size=25)\n",
    "neigh1.fit(X_train,Y_train)\n",
    "neigh1_predict=neigh1.predict(X_test)\n",
    "print(\"accuracy Score (training) for tuned KNN:{0:6f}\".format(neigh1.score(X_test,Y_test)))\n",
    "print(\"Confusion Matrix for KNN\")\n",
    "print(confusion_matrix(Y_test,neigh1_predict))\n",
    "roc_auc_score(Y_test,neigh1_predict)\n",
    "print(classification_report(Y_test, neigh1_predict))"
   ]
  },
  {
   "cell_type": "code",
   "execution_count": 40,
   "id": "7d83b1ab",
   "metadata": {},
   "outputs": [
    {
     "data": {
      "text/plain": [
       "MLPClassifier(activation='logistic', max_iter=100, solver='lbfgs')"
      ]
     },
     "execution_count": 40,
     "metadata": {},
     "output_type": "execute_result"
    }
   ],
   "source": [
    "## MLP with hyper-parameter tuning using RANDOM search\n",
    "\n",
    "from sklearn.neural_network import MLPClassifier\n",
    "from sklearn.model_selection import RandomizedSearchCV\n",
    "params = {  'activation': ['identity', 'logistic', 'tanh', 'relu'],\n",
    "                'solver': ['lbfgs','sgd','adam'],\n",
    "                'max_iter' : [100,200,300]}\n",
    "randomized_search_mlp = RandomizedSearchCV(MLPClassifier(), params, cv=5)\n",
    "randomized_search_mlp.fit(X_train, Y_train)\n",
    "randomized_search_mlp.best_estimator_"
   ]
  },
  {
   "cell_type": "code",
   "execution_count": 52,
   "id": "848eb177",
   "metadata": {},
   "outputs": [
    {
     "name": "stdout",
     "output_type": "stream",
     "text": [
      "accuracy Score (training) for MultiLayer Perceptron:0.765333\n",
      "Confusion Matrix for MultiLayer Perceptron:\n",
      "[[216  19]\n",
      " [ 69  71]]\n",
      "              precision    recall  f1-score   support\n",
      "\n",
      "           0       0.76      0.92      0.83       235\n",
      "           1       0.79      0.51      0.62       140\n",
      "\n",
      "    accuracy                           0.77       375\n",
      "   macro avg       0.77      0.71      0.72       375\n",
      "weighted avg       0.77      0.77      0.75       375\n",
      "\n"
     ]
    }
   ],
   "source": [
    "# Multilayer Perceptron\n",
    "mlp1 = MLPClassifier(activation='logistic', max_iter=100, solver='lbfgs')\n",
    "mlp1.fit(X_train, Y_train)\n",
    "mlp1_predict=mlp1.predict(X_test)\n",
    "print(\"accuracy Score (training) for MultiLayer Perceptron:{0:6f}\".format(mlp1.score(X_test,Y_test)))\n",
    "print(\"Confusion Matrix for MultiLayer Perceptron:\")\n",
    "print(confusion_matrix(Y_test,mlp1_predict))\n",
    "roc_auc_score(Y_test,mlp1_predict)\n",
    "print(classification_report(Y_test, mlp1_predict))"
   ]
  },
  {
   "cell_type": "markdown",
   "id": "8b4d7790",
   "metadata": {},
   "source": [
    "## STACKING"
   ]
  },
  {
   "cell_type": "code",
   "execution_count": 45,
   "id": "00688411",
   "metadata": {},
   "outputs": [
    {
     "name": "stdout",
     "output_type": "stream",
     "text": [
      "task:         [classification]\n",
      "n_classes:    [2]\n",
      "metric:       [accuracy_score]\n",
      "mode:         [oof_pred_bag]\n",
      "n_models:     [5]\n",
      "\n",
      "model  0:     [KNeighborsClassifier]\n",
      "    fold  0:  [0.96933962]\n",
      "    fold  1:  [0.98820755]\n",
      "    fold  2:  [0.98820755]\n",
      "    fold  3:  [0.97635934]\n",
      "    ----\n",
      "    MEAN:     [0.98052851] + [0.00807014]\n",
      "    FULL:     [0.98053097]\n",
      "\n",
      "model  1:     [MLPClassifier]\n",
      "    fold  0:  [0.76415094]\n",
      "    fold  1:  [0.70990566]\n",
      "    fold  2:  [0.69811321]\n",
      "    fold  3:  [0.70449173]\n",
      "    ----\n",
      "    MEAN:     [0.71916538] + [0.02630567]\n",
      "    FULL:     [0.71917404]\n",
      "\n",
      "model  2:     [SVC]\n",
      "    fold  0:  [0.63679245]\n",
      "    fold  1:  [0.66981132]\n",
      "    fold  2:  [0.64386792]\n",
      "    fold  3:  [0.65484634]\n",
      "    ----\n",
      "    MEAN:     [0.65132951] + [0.01245940]\n",
      "    FULL:     [0.65132743]\n",
      "\n",
      "model  3:     [RandomForestClassifier]\n",
      "    fold  0:  [0.98113208]\n",
      "    fold  1:  [0.98820755]\n",
      "    fold  2:  [0.98820755]\n",
      "    fold  3:  [0.99290780]\n",
      "    ----\n",
      "    MEAN:     [0.98761374] + [0.00420548]\n",
      "    FULL:     [0.98761062]\n",
      "\n",
      "model  4:     [DecisionTreeClassifier]\n",
      "    fold  0:  [0.98113208]\n",
      "    fold  1:  [0.98820755]\n",
      "    fold  2:  [0.98820755]\n",
      "    fold  3:  [0.99290780]\n",
      "    ----\n",
      "    MEAN:     [0.98761374] + [0.00420548]\n",
      "    FULL:     [0.98761062]\n",
      "\n"
     ]
    }
   ],
   "source": [
    "models = [ KNeighborsClassifier(), MLPClassifier(), SVC(), RandomForestClassifier(), DecisionTreeClassifier() ]\n",
    "      \n",
    "S_Train, S_Test = stacking(models, X_train,Y_train, X_test,                  \n",
    "                           regression=False,      \n",
    "                           mode='oof_pred_bag',        \n",
    "                           needs_proba=False,         \n",
    "                           save_dir=None,             \n",
    "                           metric=accuracy_score, \n",
    "                           n_folds=4, \n",
    "                           stratified=True,           \n",
    "                           shuffle=True,              \n",
    "                           random_state=0,    \n",
    "                           verbose=2)"
   ]
  },
  {
   "cell_type": "code",
   "execution_count": 49,
   "id": "5e31a8fd",
   "metadata": {},
   "outputs": [],
   "source": [
    "# USING KNN AS STACKING CLASSIFIER\n",
    "model = KNeighborsClassifier()\n",
    "model = model.fit(S_Train, Y_train)\n",
    "Y_pred = model.predict(S_Test)"
   ]
  },
  {
   "cell_type": "code",
   "execution_count": 50,
   "id": "eac2925f",
   "metadata": {},
   "outputs": [
    {
     "name": "stdout",
     "output_type": "stream",
     "text": [
      "accuracy Score (training) for Stacked Random Forest:0.994667\n",
      "Confusion Matrix for Stacked Random Forest\n",
      "[[235   0]\n",
      " [  2 138]]\n",
      "              precision    recall  f1-score   support\n",
      "\n",
      "           0       0.99      1.00      1.00       235\n",
      "           1       1.00      0.99      0.99       140\n",
      "\n",
      "    accuracy                           0.99       375\n",
      "   macro avg       1.00      0.99      0.99       375\n",
      "weighted avg       0.99      0.99      0.99       375\n",
      "\n"
     ]
    }
   ],
   "source": [
    "print(\"accuracy Score (training) for Stacked Random Forest:{0:6f}\".format(model.score(S_Test,Y_test)))\n",
    "print(\"Confusion Matrix for Stacked Random Forest\")\n",
    "print(confusion_matrix(Y_test,Y_pred))\n",
    "roc_auc_score(Y_test,Y_pred)\n",
    "print(classification_report(Y_test, Y_pred))"
   ]
  },
  {
   "cell_type": "code",
   "execution_count": null,
   "id": "f4364c73",
   "metadata": {},
   "outputs": [],
   "source": []
  },
  {
   "cell_type": "code",
   "execution_count": null,
   "id": "7c209b2a",
   "metadata": {},
   "outputs": [],
   "source": []
  }
 ],
 "metadata": {
  "kernelspec": {
   "display_name": "Python 3",
   "language": "python",
   "name": "python3"
  },
  "language_info": {
   "codemirror_mode": {
    "name": "ipython",
    "version": 3
   },
   "file_extension": ".py",
   "mimetype": "text/x-python",
   "name": "python",
   "nbconvert_exporter": "python",
   "pygments_lexer": "ipython3",
   "version": "3.8.8"
  }
 },
 "nbformat": 4,
 "nbformat_minor": 5
}
